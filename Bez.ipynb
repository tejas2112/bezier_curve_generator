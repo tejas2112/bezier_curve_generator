{
 "cells": [
  {
   "cell_type": "code",
   "execution_count": null,
   "metadata": {},
   "outputs": [],
   "source": [
    "import numpy as np\n",
    "__all__ = [\"Bezier\"]\n",
    "\n",
    "class Bezier():\n",
    "    def x_coord(a, b, c, d, u):\n",
    "        x = a*((1-u)**3) + 3*b*(u)*((1-u)**2) + 3*c*((u)**2)*(1-u) + d*((u)**3)    # De Cateljau’s algorithm\n",
    "        return x\n",
    "    \n",
    "    def y_coord(a, b, c, d, u):\n",
    "        y = a*((1-u)**3) + 3*b*(u)*((1-u)**2) + 3*c*((u)**2)*(1-u) + d*((u)**3)\n",
    "        return y\n",
    "    \n",
    "    def z_coord(a, b, c, d, u):\n",
    "        z = a*((1-u)**3) + 3*b*(u)*((1-u)**2) + 3*c*((u)**2)*(1-u) + d*((u)**3)\n",
    "        return z\n",
    "    \n",
    "    def Curve(t_values, points):\n",
    "        curve = np.array([[0.0] * len(points[0])])\n",
    "        for t in t_values:\n",
    "            x = Bezier.x_coord(points[0][0], points[1][0], points[2][0], points[3][0], t)\n",
    "            y = Bezier.y_coord(points[0][1], points[1][1], points[2][1], points[3][1], t)\n",
    "            z = Bezier.z_coord(points[0][2], points[1][2], points[2][2], points[3][2], t)\n",
    "            p = [[x,y,z]]\n",
    "            curve = np.append(curve, p, axis = 0)\n",
    "        curve = np.delete(curve, 0, 0)\n",
    "        return curve"
   ]
  }
 ],
 "metadata": {
  "kernelspec": {
   "display_name": "Python 3",
   "language": "python",
   "name": "python3"
  },
  "language_info": {
   "codemirror_mode": {
    "name": "ipython",
    "version": 3
   },
   "file_extension": ".py",
   "mimetype": "text/x-python",
   "name": "python",
   "nbconvert_exporter": "python",
   "pygments_lexer": "ipython3",
   "version": "3.8.5"
  }
 },
 "nbformat": 4,
 "nbformat_minor": 4
}
